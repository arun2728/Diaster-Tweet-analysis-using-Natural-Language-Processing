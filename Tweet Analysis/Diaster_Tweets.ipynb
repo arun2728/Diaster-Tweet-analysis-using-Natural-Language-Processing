{
 "cells": [
  {
   "cell_type": "markdown",
   "metadata": {
    "id": "EejulEbC06pJ"
   },
   "source": [
    "# Diaster Tweet"
   ]
  },
  {
   "cell_type": "markdown",
   "metadata": {
    "id": "yvBi_4QQ1LG3"
   },
   "source": [
    "## Problem Statement:\n",
    "\n",
    "Twitter has become an important communication channel in times of emergency.\n",
    "The ubiquitousness of smartphones enables people to announce an emergency they’re observing in real-time. Because of this, more agencies are interested in programatically monitoring Twitter (i.e. disaster relief organizations and news agencies).\n",
    "\n",
    "But, it’s not always clear whether a person’s words are actually announcing a disaster.\n",
    "\n"
   ]
  },
  {
   "cell_type": "markdown",
   "metadata": {
    "id": "8FmCkTgd2CRn"
   },
   "source": [
    "## Data Definition:\n",
    "\n",
    "**Independent Variable**\n",
    "\n",
    "1. id - a unique identifier for each tweet\n",
    "2. text - the text of the tweet\n",
    "3. location - the location the tweet was sent from (may be blank)\n",
    "4. keyword - a particular keyword from the tweet (may be blank)\n",
    "\n",
    "**Dependent Variable**\n",
    "\n",
    "- target - in train.csv only, this denotes whether a tweet is about a real disaster (1) or not (0)\n"
   ]
  },
  {
   "cell_type": "markdown",
   "metadata": {
    "id": "LwOnqHB82Z6X"
   },
   "source": [
    "<a id='toc'></a>\n",
    "## **Tabel of Contents**"
   ]
  },
  {
   "cell_type": "markdown",
   "metadata": {
    "id": "FDM2U3M32VdR"
   },
   "source": []
  },
  {
   "cell_type": "markdown",
   "metadata": {
    "id": "qs1Ewc2s2kkz"
   },
   "source": [
    "### Import packages"
   ]
  },
  {
   "cell_type": "code",
   "execution_count": 37,
   "metadata": {
    "colab": {
     "base_uri": "https://localhost:8080/"
    },
    "id": "ck2riRhL0zpb",
    "outputId": "04a6026a-6396-4d13-8687-325cee3120bc"
   },
   "outputs": [
    {
     "name": "stdout",
     "output_type": "stream",
     "text": [
      "[nltk_data] Downloading package stopwords to /root/nltk_data...\n",
      "[nltk_data]   Package stopwords is already up-to-date!\n"
     ]
    }
   ],
   "source": [
    "import pandas as pd\n",
    "import numpy as np\n",
    "import matplotlib.pyplot as plt\n",
    "import seaborn as sns\n",
    "import re\n",
    "import os\n",
    "import tensorflow as tf\n",
    "import nltk\n",
    "nltk.download('stopwords')\n",
    "sns.set()"
   ]
  },
  {
   "cell_type": "markdown",
   "metadata": {
    "id": "i-nZLqtL3u4n"
   },
   "source": [
    "### Load Data"
   ]
  },
  {
   "cell_type": "code",
   "execution_count": 38,
   "metadata": {
    "colab": {
     "base_uri": "https://localhost:8080/",
     "height": 206
    },
    "id": "_jhqshMo3r-P",
    "outputId": "25117575-17d4-497c-892a-c21014eee50c"
   },
   "outputs": [
    {
     "data": {
      "text/html": [
       "<div>\n",
       "<style scoped>\n",
       "    .dataframe tbody tr th:only-of-type {\n",
       "        vertical-align: middle;\n",
       "    }\n",
       "\n",
       "    .dataframe tbody tr th {\n",
       "        vertical-align: top;\n",
       "    }\n",
       "\n",
       "    .dataframe thead th {\n",
       "        text-align: right;\n",
       "    }\n",
       "</style>\n",
       "<table border=\"1\" class=\"dataframe\">\n",
       "  <thead>\n",
       "    <tr style=\"text-align: right;\">\n",
       "      <th></th>\n",
       "      <th>id</th>\n",
       "      <th>keyword</th>\n",
       "      <th>location</th>\n",
       "      <th>text</th>\n",
       "      <th>target</th>\n",
       "    </tr>\n",
       "  </thead>\n",
       "  <tbody>\n",
       "    <tr>\n",
       "      <th>0</th>\n",
       "      <td>1</td>\n",
       "      <td>NaN</td>\n",
       "      <td>NaN</td>\n",
       "      <td>Our Deeds are the Reason of this #earthquake M...</td>\n",
       "      <td>1</td>\n",
       "    </tr>\n",
       "    <tr>\n",
       "      <th>1</th>\n",
       "      <td>4</td>\n",
       "      <td>NaN</td>\n",
       "      <td>NaN</td>\n",
       "      <td>Forest fire near La Ronge Sask. Canada</td>\n",
       "      <td>1</td>\n",
       "    </tr>\n",
       "    <tr>\n",
       "      <th>2</th>\n",
       "      <td>5</td>\n",
       "      <td>NaN</td>\n",
       "      <td>NaN</td>\n",
       "      <td>All residents asked to 'shelter in place' are ...</td>\n",
       "      <td>1</td>\n",
       "    </tr>\n",
       "    <tr>\n",
       "      <th>3</th>\n",
       "      <td>6</td>\n",
       "      <td>NaN</td>\n",
       "      <td>NaN</td>\n",
       "      <td>13,000 people receive #wildfires evacuation or...</td>\n",
       "      <td>1</td>\n",
       "    </tr>\n",
       "    <tr>\n",
       "      <th>4</th>\n",
       "      <td>7</td>\n",
       "      <td>NaN</td>\n",
       "      <td>NaN</td>\n",
       "      <td>Just got sent this photo from Ruby #Alaska as ...</td>\n",
       "      <td>1</td>\n",
       "    </tr>\n",
       "  </tbody>\n",
       "</table>\n",
       "</div>"
      ],
      "text/plain": [
       "   id keyword  ...                                               text target\n",
       "0   1     NaN  ...  Our Deeds are the Reason of this #earthquake M...      1\n",
       "1   4     NaN  ...             Forest fire near La Ronge Sask. Canada      1\n",
       "2   5     NaN  ...  All residents asked to 'shelter in place' are ...      1\n",
       "3   6     NaN  ...  13,000 people receive #wildfires evacuation or...      1\n",
       "4   7     NaN  ...  Just got sent this photo from Ruby #Alaska as ...      1\n",
       "\n",
       "[5 rows x 5 columns]"
      ]
     },
     "execution_count": 38,
     "metadata": {
      "tags": []
     },
     "output_type": "execute_result"
    }
   ],
   "source": [
    "raw_data = pd.read_csv('/content/drive/MyDrive/Colab Notebooks/Disaster Twitter/twitter_data.csv')\n",
    "\n",
    "raw_data.head()"
   ]
  },
  {
   "cell_type": "code",
   "execution_count": 39,
   "metadata": {
    "colab": {
     "base_uri": "https://localhost:8080/"
    },
    "id": "LqgnW5CX3-OH",
    "outputId": "c3e3e171-33d5-4853-d7fc-128f836bf70a"
   },
   "outputs": [
    {
     "name": "stdout",
     "output_type": "stream",
     "text": [
      "There are 7613 rows and 5 columns in dataset\n"
     ]
    }
   ],
   "source": [
    "print('There are {} rows and {} columns in dataset'.format(raw_data.shape[0],raw_data.shape[1]))"
   ]
  },
  {
   "cell_type": "markdown",
   "metadata": {
    "id": "pEVMd4304KUy"
   },
   "source": [
    "### Class distribution"
   ]
  },
  {
   "cell_type": "code",
   "execution_count": 40,
   "metadata": {
    "colab": {
     "base_uri": "https://localhost:8080/",
     "height": 302
    },
    "id": "EAz9Vyrm4HFN",
    "outputId": "cf28d3e8-ccc2-4453-8079-bbfc1071784a"
   },
   "outputs": [
    {
     "data": {
      "text/plain": [
       "Text(0.5, 0, 'Target')"
      ]
     },
     "execution_count": 40,
     "metadata": {
      "tags": []
     },
     "output_type": "execute_result"
    },
    {
     "data": {
      "image/png": "[encoded data removed]",
      "text/plain": [
       "<Figure size 432x288 with 1 Axes>"
      ]
     },
     "metadata": {
      "tags": []
     },
     "output_type": "display_data"
    }
   ],
   "source": [
    "labels = raw_data.target.value_counts()\n",
    "\n",
    "sns.barplot(x = labels.index, y = labels)\n",
    "plt.gca().set_ylabel('Number of samples')\n",
    "plt.gca().set_xlabel('Target')"
   ]
  },
  {
   "cell_type": "markdown",
   "metadata": {
    "id": "s80GWXwY5Zuv"
   },
   "source": [
    "*Note : There are more tweets with class 0 (No disaster) than class 1 (disaster tweets)*"
   ]
  },
  {
   "cell_type": "markdown",
   "metadata": {
    "id": "ZI6b7dV65mpS"
   },
   "source": [
    "### EDA (Exploratory Data Analysis)"
   ]
  },
  {
   "cell_type": "markdown",
   "metadata": {
    "id": "g2Pe0BWy5qgq"
   },
   "source": [
    "1. Number of characters in tweets"
   ]
  },
  {
   "cell_type": "code",
   "execution_count": 41,
   "metadata": {
    "colab": {
     "base_uri": "https://localhost:8080/",
     "height": 465
    },
    "id": "3hElB9if4Wjz",
    "outputId": "8e875c09-142f-47f4-e638-e4cb804091ed"
   },
   "outputs": [
    {
     "name": "stderr",
     "output_type": "stream",
     "text": [
      "/usr/local/lib/python3.6/dist-packages/seaborn/distributions.py:2557: FutureWarning: `distplot` is a deprecated function and will be removed in a future version. Please adapt your code to use either `displot` (a figure-level function with similar flexibility) or `histplot` (an axes-level function for histograms).\n",
      "  warnings.warn(msg, FutureWarning)\n",
      "/usr/local/lib/python3.6/dist-packages/seaborn/distributions.py:2557: FutureWarning: `distplot` is a deprecated function and will be removed in a future version. Please adapt your code to use either `displot` (a figure-level function with similar flexibility) or `histplot` (an axes-level function for histograms).\n",
      "  warnings.warn(msg, FutureWarning)\n"
     ]
    },
    {
     "data": {
      "text/plain": [
       "Text(0.5, 0.98, 'Number of charcters in tweets')"
      ]
     },
     "execution_count": 41,
     "metadata": {
      "tags": []
     },
     "output_type": "execute_result"
    },
    {
     "data": {
      "image/png": "[encoded data removed]",
      "text/plain": [
       "<Figure size 720x360 with 2 Axes>"
      ]
     },
     "metadata": {
      "tags": []
     },
     "output_type": "display_data"
    }
   ],
   "source": [
    "fig, (ax1,ax2) = plt.subplots(nrows = 1,ncols = 2,figsize = (10,5))\n",
    "\n",
    "no_char_0 = list(raw_data[raw_data['target'] == 0]['text'].map(len))\n",
    "sns.distplot(no_char_0, ax = ax1, color = 'green')\n",
    "\n",
    "\n",
    "no_char_1 = list(raw_data[raw_data['target'] == 1]['text'].map(len))\n",
    "sns.distplot(no_char_1, ax = ax2, color = 'red')\n",
    "\n",
    "ax1.set_title('No disaster tweets')\n",
    "ax2.set_title('Diaster  tweets')\n",
    "\n",
    "fig.suptitle('Number of charcters in tweets')\n",
    "#plt.show()"
   ]
  },
  {
   "cell_type": "markdown",
   "metadata": {
    "id": "jVs9RDpq8EAQ"
   },
   "source": [
    "**2. Number of words in tweet**"
   ]
  },
  {
   "cell_type": "code",
   "execution_count": 42,
   "metadata": {
    "colab": {
     "base_uri": "https://localhost:8080/"
    },
    "id": "cTZKUhin9HDt",
    "outputId": "9293932a-da6a-4f14-b626-1fc289dfbccd"
   },
   "outputs": [
    {
     "data": {
      "text/plain": [
       "id                      23\n",
       "keyword                NaN\n",
       "location               NaN\n",
       "text        What's up man?\n",
       "target                   0\n",
       "Name: 15, dtype: object"
      ]
     },
     "execution_count": 42,
     "metadata": {
      "tags": []
     },
     "output_type": "execute_result"
    }
   ],
   "source": [
    "raw_data.iloc[15]"
   ]
  },
  {
   "cell_type": "code",
   "execution_count": 43,
   "metadata": {
    "colab": {
     "base_uri": "https://localhost:8080/",
     "height": 358
    },
    "id": "jTim_g-s6n53",
    "outputId": "a4ddd89d-b47b-4a0b-cc28-1b6b02e9b1a7"
   },
   "outputs": [
    {
     "data": {
      "image/png": "[encoded data removed]",
      "text/plain": [
       "<Figure size 720x360 with 2 Axes>"
      ]
     },
     "metadata": {
      "tags": []
     },
     "output_type": "display_data"
    }
   ],
   "source": [
    "fig, (ax1, ax2) = plt.subplots(1,2, figsize=(10,5))\n",
    "\n",
    "no_words_0 = raw_data[raw_data['target'] == 0]['text'].str.split().map(lambda x: len(x))\n",
    "ax1.hist(no_words_0, color = 'green')\n",
    "ax1.set_title('No disaster tweets')\n",
    "\n",
    "no_words_1 = raw_data[raw_data['target'] == 1]['text'].str.split().map(lambda x : len(x))\n",
    "ax2.hist(no_words_1, color = 'red')\n",
    "ax2.set_title('Diaster tweets')\n",
    "\n",
    "plt.suptitle('Number of words in tweets')\n",
    "plt.show()"
   ]
  },
  {
   "cell_type": "markdown",
   "metadata": {
    "id": "WsY0ucfm_gpo"
   },
   "source": [
    "3. Common stopwords in tweets"
   ]
  },
  {
   "cell_type": "code",
   "execution_count": 44,
   "metadata": {
    "id": "rAQiCv0J9DwE"
   },
   "outputs": [],
   "source": [
    "from collections import defaultdict\n",
    "\n",
    "stop_words = set(nltk.corpus.stopwords.words('english'))\n",
    "\n",
    "def get_common_words(raw_data,target,stop_words):\n",
    "  list_of_words=[]\n",
    "  \n",
    "  \n",
    "  \n",
    "  for x in raw_data[raw_data['target']==target]['text'].str.split():\n",
    "    for i in x:\n",
    "      list_of_words.append(i)\n",
    "  \n",
    "  dic = defaultdict(int)\n",
    "  \n",
    "  for word in list_of_words:\n",
    "      if word in stop_words:\n",
    "          dic[word]+=1\n",
    "          \n",
    "  top_10 = sorted(dic.items(), key=lambda x:x[1],reverse=True)[:10] \n",
    " \n",
    "  x,y=zip(*top_10)\n",
    "  plt.bar(x,y)\n",
    "  plt.title(\"List of common words\")\n",
    "  plt.show()\n",
    "    "
   ]
  },
  {
   "cell_type": "code",
   "execution_count": 45,
   "metadata": {
    "colab": {
     "base_uri": "https://localhost:8080/",
     "height": 284
    },
    "id": "pv0e3OYpA9AI",
    "outputId": "ea58149b-bde5-4f4b-b969-85b373aa3f80"
   },
   "outputs": [
    {
     "data": {
      "image/png": "[encoded data removed]",
      "text/plain": [
       "<Figure size 432x288 with 1 Axes>"
      ]
     },
     "metadata": {
      "tags": []
     },
     "output_type": "display_data"
    }
   ],
   "source": [
    "# Common words for No disaster tweets\n",
    "get_common_words(raw_data,0,stop_words)"
   ]
  },
  {
   "cell_type": "code",
   "execution_count": 46,
   "metadata": {
    "colab": {
     "base_uri": "https://localhost:8080/",
     "height": 284
    },
    "id": "siBTa8vrA_Cg",
    "outputId": "e260d914-6506-4d03-8dff-331f81c93c1a"
   },
   "outputs": [
    {
     "data": {
      "image/png": "[encoded data removed]",
      "text/plain": [
       "<Figure size 432x288 with 1 Axes>"
      ]
     },
     "metadata": {
      "tags": []
     },
     "output_type": "display_data"
    }
   ],
   "source": [
    "# Common words for Disaster tweets\n",
    "get_common_words(raw_data,1,stop_words)"
   ]
  },
  {
   "cell_type": "markdown",
   "metadata": {
    "id": "pgngG6nJDoTb"
   },
   "source": [
    "### Data Cleaning"
   ]
  },
  {
   "cell_type": "code",
   "execution_count": 47,
   "metadata": {
    "id": "E76XBIuYDDnM"
   },
   "outputs": [],
   "source": [
    "data = raw_data.copy()"
   ]
  },
  {
   "cell_type": "markdown",
   "metadata": {
    "id": "XANq4heNDvfB"
   },
   "source": [
    "#### 1. Remove url's"
   ]
  },
  {
   "cell_type": "code",
   "execution_count": 48,
   "metadata": {
    "id": "CtRab_wdDuXS"
   },
   "outputs": [],
   "source": [
    "def remove_url(text):\n",
    "  url = re.compile(r\"https?://\\S+|www\\.\\S+\")\n",
    "  return url.sub(r\"\", text)"
   ]
  },
  {
   "cell_type": "code",
   "execution_count": 49,
   "metadata": {
    "id": "WlVcLiTBD_BI"
   },
   "outputs": [],
   "source": [
    "data['text'] = data['text'].map(remove_url)"
   ]
  },
  {
   "cell_type": "markdown",
   "metadata": {
    "id": "gowY4tm2EnYR"
   },
   "source": [
    "#### 2. Remove html tags"
   ]
  },
  {
   "cell_type": "code",
   "execution_count": 50,
   "metadata": {
    "id": "fv4Y9-o4EZ13"
   },
   "outputs": [],
   "source": [
    "def remove_html(text):\n",
    "  html = re.compile(r'<.*?>')\n",
    "  return html.sub(r\"\", text)\n"
   ]
  },
  {
   "cell_type": "code",
   "execution_count": 51,
   "metadata": {
    "id": "L3xqYRCVEyn4"
   },
   "outputs": [],
   "source": [
    "data['text'] = data['text'].map(remove_html)"
   ]
  },
  {
   "cell_type": "markdown",
   "metadata": {
    "id": "PPKPFMUuE10O"
   },
   "source": [
    "#### 3. Remove emojis\n",
    "\n",
    "https://stackoverflow.com/questions/33404752/removing-emojis-from-a-string-in-python/49146722#49146722"
   ]
  },
  {
   "cell_type": "code",
   "execution_count": 52,
   "metadata": {
    "id": "lCsEDeDuE0We"
   },
   "outputs": [],
   "source": [
    "def remove_emoji(text):\n",
    "    \n",
    "    emoji_pattern = re.compile(\"[\"\n",
    "                           u\"\\U0001F600-\\U0001F64F\"  # emoticons\n",
    "                           u\"\\U0001F300-\\U0001F5FF\"  # symbols & pictographs\n",
    "                           u\"\\U0001F680-\\U0001F6FF\"  # transport & map symbols\n",
    "                           u\"\\U0001F1E0-\\U0001F1FF\"  # flags (iOS)\n",
    "                           u\"\\U00002702-\\U000027B0\"\n",
    "                           u\"\\U000024C2-\\U0001F251\"\n",
    "                           \"]+\", flags=re.UNICODE)\n",
    "    return emoji_pattern.sub(r'', text)"
   ]
  },
  {
   "cell_type": "code",
   "execution_count": 53,
   "metadata": {
    "id": "3YeLm2jjFbz0"
   },
   "outputs": [],
   "source": [
    "data['text'] = data['text'].map(remove_emoji)"
   ]
  },
  {
   "cell_type": "markdown",
   "metadata": {
    "id": "8gowauxqFj94"
   },
   "source": [
    "#### 4. Remove punctuations"
   ]
  },
  {
   "cell_type": "code",
   "execution_count": 54,
   "metadata": {
    "colab": {
     "base_uri": "https://localhost:8080/"
    },
    "id": "JQVn31KxFg3G",
    "outputId": "17b545c3-3265-4cd9-9d09-f8d553a7b175"
   },
   "outputs": [
    {
     "name": "stdout",
     "output_type": "stream",
     "text": [
      "!\"#$%&'()*+,-./:;<=>?@[\\]^_`{|}~\n"
     ]
    }
   ],
   "source": [
    "import  string \n",
    "print(string.punctuation)"
   ]
  },
  {
   "cell_type": "code",
   "execution_count": 55,
   "metadata": {
    "id": "VLHtbGdSF3jQ"
   },
   "outputs": [],
   "source": [
    "def remove_punct(text):\n",
    "    table = str.maketrans('','',string.punctuation)\n",
    "    return text.translate(table)"
   ]
  },
  {
   "cell_type": "code",
   "execution_count": 56,
   "metadata": {
    "id": "26DS6v2HFqBc"
   },
   "outputs": [],
   "source": [
    "data['text'] = data['text'].map(remove_punct)"
   ]
  },
  {
   "cell_type": "markdown",
   "metadata": {
    "id": "ZDQIhspfWYul"
   },
   "source": [
    "#### 5. Using GloVe for Vectorization"
   ]
  },
  {
   "cell_type": "code",
   "execution_count": 57,
   "metadata": {
    "colab": {
     "base_uri": "https://localhost:8080/"
    },
    "id": "JWP3fis_PvG8",
    "outputId": "0900fe2f-c438-4a2e-e354-5655e1883231"
   },
   "outputs": [
    {
     "name": "stdout",
     "output_type": "stream",
     "text": [
      "[nltk_data] Downloading package punkt to /root/nltk_data...\n",
      "[nltk_data]   Package punkt is already up-to-date!\n"
     ]
    }
   ],
   "source": [
    "from tqdm import tqdm\n",
    "from nltk.tokenize import word_tokenize\n",
    "nltk.download('punkt')\n",
    "\n",
    "def create_corpus(df):\n",
    "    corpus=[]\n",
    "    for tweet in tqdm(df['text']):\n",
    "        words=[word.lower() for word in word_tokenize(tweet) if((word.isalpha()==1) & (word not in stop_words))]\n",
    "        corpus.append(words)\n",
    "    return corpus"
   ]
  },
  {
   "cell_type": "code",
   "execution_count": 58,
   "metadata": {
    "colab": {
     "base_uri": "https://localhost:8080/"
    },
    "id": "xI7UdWyMP3Va",
    "outputId": "1be3bd30-8ae2-4b6a-fd20-161a9b5b0fcc"
   },
   "outputs": [
    {
     "name": "stderr",
     "output_type": "stream",
     "text": [
      "100%|██████████| 7613/7613 [00:01<00:00, 6955.77it/s]\n"
     ]
    }
   ],
   "source": [
    "corpus = create_corpus(data)"
   ]
  },
  {
   "cell_type": "markdown",
   "metadata": {},
   "source": [
    "You can download the below used file 'data_glove.6B.100d.txt' from : https://resources.oreilly.com/conferences/natural-language-processing-with-deep-learning/raw/master/data/glove.6B.100d.txt?inline=false"
   ]
  },
  {
   "cell_type": "code",
   "execution_count": 59,
   "metadata": {
    "id": "F0ZauoWlP5Fi"
   },
   "outputs": [],
   "source": [
    "embedding_dict={}\n",
    "with open('/content/drive/MyDrive/Colab Notebooks/Disaster Twitter/data_glove.6B.100d.txt','r') as f:\n",
    "    for line in f:\n",
    "        values=line.split()\n",
    "        word=values[0]\n",
    "        vectors=np.asarray(values[1:],'float32')\n",
    "        embedding_dict[word]=vectors"
   ]
  },
  {
   "cell_type": "code",
   "execution_count": 69,
   "metadata": {
    "id": "dRBajiXrP_Rz"
   },
   "outputs": [],
   "source": [
    "MAX_LEN=50\n",
    "tokenizer_obj = tf.keras.preprocessing.text.Tokenizer()\n",
    "tokenizer_obj.fit_on_texts(corpus)\n",
    "sequences=tokenizer_obj.texts_to_sequences(corpus)\n",
    "\n",
    "data_pad = tf.keras.preprocessing.sequence.pad_sequences(sequences,maxlen=MAX_LEN,truncating='post',padding='post')"
   ]
  },
  {
   "cell_type": "code",
   "execution_count": 70,
   "metadata": {
    "colab": {
     "base_uri": "https://localhost:8080/"
    },
    "id": "Vo2LA3TvQDmz",
    "outputId": "20b88e6b-0bc0-4158-baa7-90761695d387"
   },
   "outputs": [
    {
     "name": "stdout",
     "output_type": "stream",
     "text": [
      "Number of unique words: 16230\n"
     ]
    }
   ],
   "source": [
    "word_index = tokenizer_obj.word_index\n",
    "print('Number of unique words:',len(word_index))"
   ]
  },
  {
   "cell_type": "code",
   "execution_count": 62,
   "metadata": {
    "colab": {
     "base_uri": "https://localhost:8080/"
    },
    "id": "63iZVpSlQSkB",
    "outputId": "1e5981b9-d6bd-4824-8c0d-2ede5b8ca589"
   },
   "outputs": [
    {
     "name": "stderr",
     "output_type": "stream",
     "text": [
      "100%|██████████| 16230/16230 [00:00<00:00, 327799.92it/s]\n"
     ]
    }
   ],
   "source": [
    "num_words=len(word_index)+1\n",
    "embedding_matrix=np.zeros((num_words,100))\n",
    "\n",
    "for word,i in tqdm(word_index.items()):\n",
    "    if i > num_words:\n",
    "        continue\n",
    "    \n",
    "    emb_vec=embedding_dict.get(word)\n",
    "    if emb_vec is not None:\n",
    "        embedding_matrix[i]=emb_vec"
   ]
  },
  {
   "cell_type": "code",
   "execution_count": 64,
   "metadata": {
    "colab": {
     "base_uri": "https://localhost:8080/"
    },
    "id": "e2eGnLADQV5B",
    "outputId": "d7b3d380-61f3-467c-961d-f28778c64bea"
   },
   "outputs": [
    {
     "name": "stdout",
     "output_type": "stream",
     "text": [
      "Model: \"sequential_2\"\n",
      "_________________________________________________________________\n",
      "Layer (type)                 Output Shape              Param #   \n",
      "=================================================================\n",
      "embedding (Embedding)        (None, 50, 100)           1623100   \n",
      "_________________________________________________________________\n",
      "lstm (LSTM)                  (None, 64)                42240     \n",
      "_________________________________________________________________\n",
      "dense (Dense)                (None, 1)                 65        \n",
      "=================================================================\n",
      "Total params: 1,665,405\n",
      "Trainable params: 42,305\n",
      "Non-trainable params: 1,623,100\n",
      "_________________________________________________________________\n"
     ]
    }
   ],
   "source": [
    "model = tf.keras.models.Sequential()\n",
    "model.add(tf.keras.layers.Embedding(num_words,100,embeddings_initializer= tf.keras.initializers.Constant(embedding_matrix),\n",
    "                   input_length=MAX_LEN,trainable=False))\n",
    "model.add(tf.keras.layers.LSTM(64, dropout=0.1))\n",
    "model.add(tf.keras.layers.Dense(1, activation=\"sigmoid\"))\n",
    "\n",
    "model.summary()"
   ]
  },
  {
   "cell_type": "code",
   "execution_count": 66,
   "metadata": {
    "id": "V2aenTVoRhw1"
   },
   "outputs": [],
   "source": [
    "optimzer= tf.keras.optimizers.Adam(learning_rate=1e-5)\n",
    "model.compile(loss='binary_crossentropy',optimizer=optimzer,metrics=['accuracy'])"
   ]
  },
  {
   "cell_type": "code",
   "execution_count": 72,
   "metadata": {
    "colab": {
     "base_uri": "https://localhost:8080/"
    },
    "id": "qfN0X_9FSeyO",
    "outputId": "0f2fad83-cd85-476c-a448-aaf5d55d4052"
   },
   "outputs": [
    {
     "data": {
      "text/plain": [
       "array([[ 583, 4270,  751, ...,    0,    0,    0],\n",
       "       [ 118,    7,  155, ...,    0,    0,    0],\n",
       "       [ 114, 1600, 1480, ...,    0,    0,    0],\n",
       "       ...,\n",
       "       [ 278,  519, 1468, ...,    0,    0,    0],\n",
       "       [  20, 1027, 2994, ...,    0,    0,    0],\n",
       "       [   2,  136,   86, ...,    0,    0,    0]], dtype=int32)"
      ]
     },
     "execution_count": 72,
     "metadata": {
      "tags": []
     },
     "output_type": "execute_result"
    }
   ],
   "source": [
    "data_pad"
   ]
  },
  {
   "cell_type": "code",
   "execution_count": 73,
   "metadata": {
    "colab": {
     "base_uri": "https://localhost:8080/"
    },
    "id": "_rAuhElDR67I",
    "outputId": "34df6206-f79e-4138-ab4a-7df18f22be43"
   },
   "outputs": [
    {
     "name": "stdout",
     "output_type": "stream",
     "text": [
      "Shape of train (6471, 50)\n",
      "Shape of Validation  (1142, 50)\n"
     ]
    }
   ],
   "source": [
    "from sklearn.model_selection import train_test_split\n",
    "\n",
    "X_train, X_val, y_train, y_val = train_test_split(data_pad,data.target.values,test_size=0.15)\n",
    "print('Shape of train',X_train.shape)\n",
    "print(\"Shape of Validation \",X_val.shape)"
   ]
  },
  {
   "cell_type": "code",
   "execution_count": 74,
   "metadata": {
    "colab": {
     "base_uri": "https://localhost:8080/"
    },
    "id": "DvfRM1l0SKqn",
    "outputId": "25003220-fa88-4d7e-ad5d-89b300e1030d"
   },
   "outputs": [
    {
     "name": "stdout",
     "output_type": "stream",
     "text": [
      "Epoch 1/20\n",
      "1618/1618 - 36s - loss: 0.6864 - accuracy: 0.5741 - val_loss: 0.6361 - val_accuracy: 0.6611\n",
      "Epoch 2/20\n",
      "1618/1618 - 33s - loss: 0.5567 - accuracy: 0.7589 - val_loss: 0.5204 - val_accuracy: 0.7732\n",
      "Epoch 3/20\n",
      "1618/1618 - 32s - loss: 0.5137 - accuracy: 0.7767 - val_loss: 0.4998 - val_accuracy: 0.7706\n",
      "Epoch 4/20\n",
      "1618/1618 - 33s - loss: 0.4963 - accuracy: 0.7861 - val_loss: 0.4886 - val_accuracy: 0.7863\n",
      "Epoch 5/20\n",
      "1618/1618 - 33s - loss: 0.4830 - accuracy: 0.7928 - val_loss: 0.4811 - val_accuracy: 0.7881\n",
      "Epoch 6/20\n",
      "1618/1618 - 33s - loss: 0.4781 - accuracy: 0.7925 - val_loss: 0.4768 - val_accuracy: 0.7898\n",
      "Epoch 7/20\n",
      "1618/1618 - 33s - loss: 0.4708 - accuracy: 0.7977 - val_loss: 0.4709 - val_accuracy: 0.7916\n",
      "Epoch 8/20\n",
      "1618/1618 - 34s - loss: 0.4644 - accuracy: 0.8022 - val_loss: 0.4670 - val_accuracy: 0.7916\n",
      "Epoch 9/20\n",
      "1618/1618 - 33s - loss: 0.4635 - accuracy: 0.7986 - val_loss: 0.4648 - val_accuracy: 0.7960\n",
      "Epoch 10/20\n",
      "1618/1618 - 32s - loss: 0.4580 - accuracy: 0.8051 - val_loss: 0.4635 - val_accuracy: 0.7960\n",
      "Epoch 11/20\n",
      "1618/1618 - 32s - loss: 0.4554 - accuracy: 0.8047 - val_loss: 0.4605 - val_accuracy: 0.7977\n",
      "Epoch 12/20\n",
      "1618/1618 - 33s - loss: 0.4516 - accuracy: 0.8054 - val_loss: 0.4609 - val_accuracy: 0.7933\n",
      "Epoch 13/20\n",
      "1618/1618 - 33s - loss: 0.4499 - accuracy: 0.8059 - val_loss: 0.4595 - val_accuracy: 0.8004\n",
      "Epoch 14/20\n",
      "1618/1618 - 34s - loss: 0.4454 - accuracy: 0.8096 - val_loss: 0.4543 - val_accuracy: 0.8004\n",
      "Epoch 15/20\n",
      "1618/1618 - 33s - loss: 0.4427 - accuracy: 0.8081 - val_loss: 0.4551 - val_accuracy: 0.8004\n",
      "Epoch 16/20\n",
      "1618/1618 - 34s - loss: 0.4430 - accuracy: 0.8061 - val_loss: 0.4510 - val_accuracy: 0.8030\n",
      "Epoch 17/20\n",
      "1618/1618 - 34s - loss: 0.4396 - accuracy: 0.8098 - val_loss: 0.4493 - val_accuracy: 0.8056\n",
      "Epoch 18/20\n",
      "1618/1618 - 35s - loss: 0.4387 - accuracy: 0.8127 - val_loss: 0.4484 - val_accuracy: 0.8047\n",
      "Epoch 19/20\n",
      "1618/1618 - 33s - loss: 0.4361 - accuracy: 0.8132 - val_loss: 0.4475 - val_accuracy: 0.8030\n",
      "Epoch 20/20\n",
      "1618/1618 - 34s - loss: 0.4355 - accuracy: 0.8133 - val_loss: 0.4468 - val_accuracy: 0.8039\n"
     ]
    }
   ],
   "source": [
    "history=model.fit(X_train, y_train, batch_size=4, epochs=20, validation_data = (X_val,y_val), verbose=2)"
   ]
  },
  {
   "cell_type": "code",
   "execution_count": 75,
   "metadata": {
    "id": "-3ppWcJxSsud"
   },
   "outputs": [],
   "source": [
    "def plot_results(history):\n",
    "  training_accuracy = history.history['accuracy']\n",
    "  validation_accuracy = history.history['val_accuracy']\n",
    "\n",
    "  plt.plot(training_accuracy, label = 'train_acc')\n",
    "  plt.plot(validation_accuracy, label = 'val_acc')\n",
    "  plt.legend()\n",
    "  plt.xlabel('Epochs')\n",
    "  plt.ylabel('Accuracy')\n",
    "  plt.show()\n",
    "\n",
    "  training_loss = history.history['loss']\n",
    "  validation_loss = history.history['val_loss']\n",
    "\n",
    "  plt.plot(training_loss, label = 'train_loss')\n",
    "  plt.plot(validation_loss, label = 'val_loss')\n",
    "  plt.legend()\n",
    "  plt.xlabel('Epochs')\n",
    "  plt.ylabel('Loss')\n",
    "  plt.show()"
   ]
  },
  {
   "cell_type": "code",
   "execution_count": 76,
   "metadata": {
    "colab": {
     "base_uri": "https://localhost:8080/",
     "height": 553
    },
    "id": "1gNuDmBkS320",
    "outputId": "ff16db94-5d72-469e-e5ed-c2354fbed140"
   },
   "outputs": [
    {
     "data": {
      "image/png": "[encoded data removed]",
      "text/plain": [
       "<Figure size 432x288 with 1 Axes>"
      ]
     },
     "metadata": {
      "tags": []
     },
     "output_type": "display_data"
    },
    {
     "data": {
      "image/png": "[encoded data removed]",
      "text/plain": [
       "<Figure size 432x288 with 1 Axes>"
      ]
     },
     "metadata": {
      "tags": []
     },
     "output_type": "display_data"
    }
   ],
   "source": [
    "plot_results(history)"
   ]
  },
  {
   "cell_type": "code",
   "execution_count": 77,
   "metadata": {
    "colab": {
     "base_uri": "https://localhost:8080/"
    },
    "id": "LCdquShRS4SU",
    "outputId": "7ebe4abc-9f5f-4fde-a5b8-5aea2bc99b6c"
   },
   "outputs": [
    {
     "name": "stdout",
     "output_type": "stream",
     "text": [
      "Saved model to disk !!!\n"
     ]
    }
   ],
   "source": [
    "model_json = model.to_json()\n",
    "with open(\"tweet.json\", \"w\") as json_file:\n",
    "  json_file.write(model_json)\n",
    "\n",
    "# serialize weights to HDF5\n",
    "model.save_weights(\"tweet.h5\")\n",
    "print(\"Saved model to disk !!!\")"
   ]
  },
  {
   "cell_type": "markdown",
   "metadata": {},
   "source": [
    "Saving Model Architecture"
   ]
  },
  {
   "cell_type": "code",
   "execution_count": 80,
   "metadata": {
    "colab": {
     "base_uri": "https://localhost:8080/",
     "height": 422
    },
    "id": "Tjszlxe2S_sV",
    "outputId": "9851585f-ca90-4fb9-ae33-479061e9e4c0"
   },
   "outputs": [
    {
     "data": {
      "image/png": "[encoded data removed]",
      "text/plain": [
       "<IPython.core.display.Image object>"
      ]
     },
     "execution_count": 80,
     "metadata": {
      "tags": []
     },
     "output_type": "execute_result"
    }
   ],
   "source": [
    "tf.keras.utils.plot_model(model, \"Architecture.png\", show_shapes=True)"
   ]
  },
  {
   "cell_type": "code",
   "execution_count": null,
   "metadata": {
    "id": "n1qgnAfDXurE"
   },
   "outputs": [],
   "source": []
  }
 ],
 "metadata": {
  "accelerator": "TPU",
  "colab": {
   "collapsed_sections": [],
   "name": "Diaster Tweets",
   "provenance": []
  },
  "kernelspec": {
   "display_name": "Python 3",
   "language": "python",
   "name": "python3"
  },
  "language_info": {
   "codemirror_mode": {
    "name": "ipython",
    "version": 3
   },
   "file_extension": ".py",
   "mimetype": "text/x-python",
   "name": "python",
   "nbconvert_exporter": "python",
   "pygments_lexer": "ipython3",
   "version": "3.8.5"
  }
 },
 "nbformat": 4,
 "nbformat_minor": 1
}
